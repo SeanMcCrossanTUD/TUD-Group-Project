{
  "nbformat": 4,
  "nbformat_minor": 0,
  "metadata": {
    "colab": {
      "provenance": []
    },
    "kernelspec": {
      "name": "python3",
      "display_name": "Python 3"
    },
    "language_info": {
      "name": "python"
    }
  },
  "cells": [
    {
      "cell_type": "code",
      "execution_count": 22,
      "metadata": {
        "id": "MFut18L8Ip1k"
      },
      "outputs": [],
      "source": [
        "from datetime import datetime\n",
        "import re\n",
        "import pandas as pd\n",
        "import numpy as np\n",
        "from functools import reduce\n",
        "from sklearn.feature_extraction.text import TfidfVectorizer\n",
        "from sklearn.metrics.pairwise import cosine_similarity\n",
        "import matplotlib.pyplot as plt\n",
        "\n",
        "\n",
        "class AdvancedDataQualityEvaluator:\n",
        "    def __init__(self, dataframe, weights=None, preprocessing_complexity=None):\n",
        "        self.df = dataframe\n",
        "        self.weights = weights or self.default_weights()\n",
        "        self.preprocessing_complexity = preprocessing_complexity or 1\n",
        "\n",
        "    def default_weights(self):\n",
        "        weights = {}\n",
        "        for col in self.df.columns:\n",
        "            if self.df[col].dtype == 'object':\n",
        "                weights[col] = 1.5\n",
        "            else:\n",
        "                weights[col] = 1\n",
        "        return weights\n",
        "\n",
        "    def completeness(self):\n",
        "        completeness_scores = (self.df[col].notnull().mean() for col in self.df.columns)\n",
        "        return np.average(list(completeness_scores), weights=list(self.weights.values()))\n",
        "\n",
        "    def uniqueness(self):\n",
        "        unique_scores = (self.df[col].nunique() / len(self.df[col]) for col in self.df.columns)\n",
        "        return np.average(list(unique_scores), weights=list(self.weights.values()))\n",
        "\n",
        "    def consistency(self):\n",
        "        consistency_scores = []\n",
        "        for col in self.df.columns:\n",
        "            most_common_type = self.df[col].map(type).mode()[0]\n",
        "            consistency = (self.df[col].map(type) == most_common_type).mean()\n",
        "            consistency_scores.append(consistency)\n",
        "        return np.average(consistency_scores, weights=list(self.weights.values()))\n",
        "\n",
        "\n",
        "    def readability(self, column):\n",
        "        if column in self.df.columns and self.df[column].dtype == 'object':\n",
        "            vectorizer = TfidfVectorizer()\n",
        "            tfidf_matrix = vectorizer.fit_transform(self.df[column].astype(str))\n",
        "            cosine_sim = cosine_similarity(tfidf_matrix)\n",
        "            return np.mean(cosine_sim.diagonal())\n",
        "        return 1\n",
        "\n",
        "\n",
        "    def calculate_overall_quality(self):\n",
        "      completeness_score = self.completeness()\n",
        "      uniqueness_score = self.uniqueness()\n",
        "      consistency_score = self.consistency()\n",
        "      readability_scores = [self.readability(col) for col in self.df.columns if self.df[col].dtype == 'object']\n",
        "      average_readability = np.mean(readability_scores) if readability_scores else 1\n",
        "\n",
        "      scores = (completeness_score + uniqueness_score + consistency_score + average_readability) / 4\n",
        "      per = [completeness_score, uniqueness_score, consistency_score, average_readability]\n",
        "      overall_score = scores\n",
        "      return overall_score * 100\n",
        "\n",
        "\n",
        "    def quality_color_indicator(self, quality_score):\n",
        "        if quality_score >= 80:\n",
        "            return \"Green\"\n",
        "        elif 60 <= quality_score < 80:\n",
        "            return \"Yellow\"\n",
        "        elif 40 <= quality_score < 60:\n",
        "            return \"Orange\"\n",
        "        else:\n",
        "            return \"Red\"\n"
      ]
    },
    {
      "cell_type": "code",
      "source": [
        "import pandas as pd\n",
        "\n",
        "df = pd.read_csv('animes.csv')\n",
        "df2=df.dropna()"
      ],
      "metadata": {
        "id": "ToWQQO9ZIsP2"
      },
      "execution_count": 5,
      "outputs": []
    },
    {
      "cell_type": "code",
      "source": [
        "evaluator = AdvancedDataQualityEvaluator(df)\n",
        "overall_quality = evaluator.calculate_overall_quality()\n",
        "print(f\"Overall Data Quality: {overall_quality:.2f}%\")\n",
        "print(\"Quality Color Indicator:\", evaluator.quality_color_indicator(overall_quality))"
      ],
      "metadata": {
        "colab": {
          "base_uri": "https://localhost:8080/"
        },
        "id": "YpcbbHzqItxU",
        "outputId": "daf6cef7-0ea9-4a65-8b07-0269a5843e7a"
      },
      "execution_count": 23,
      "outputs": [
        {
          "output_type": "stream",
          "name": "stdout",
          "text": [
            "[0.9784941225208432, 0.6009752645297153, 0.9940189529283827, 0.9990765194276147]\n",
            "Overall Data Quality Score: 89.3141214851639\n",
            "Quality Color Indicator: Green\n"
          ]
        }
      ]
    }
  ]
}