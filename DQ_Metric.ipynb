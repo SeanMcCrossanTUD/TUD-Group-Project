{
  "nbformat": 4,
  "nbformat_minor": 0,
  "metadata": {
    "colab": {
      "provenance": []
    },
    "kernelspec": {
      "name": "python3",
      "display_name": "Python 3"
    },
    "language_info": {
      "name": "python"
    }
  },
  "cells": [
    {
      "cell_type": "code",
      "execution_count": 1,
      "metadata": {
        "id": "Ys5x05t7em3y"
      },
      "outputs": [],
      "source": [
        "import pandas as pd\n",
        "import numpy as np\n",
        "\n",
        "# Sample dataset\n",
        "data = {\n",
        "    'Name': ['Alice', 'Bob', np.nan, 'Diane'],\n",
        "    'Age': [25, 30, 35, np.nan],\n",
        "    'Email': ['alice@example.com', 'bob@example.com', 'charlie@example', 'diane@example.com']\n",
        "}"
      ]
    },
    {
      "cell_type": "code",
      "source": [
        "df = pd.DataFrame(data)\n",
        "\n",
        "# Completeness Metric\n",
        "completeness_score = df.notna().sum().sum() / df.size"
      ],
      "metadata": {
        "id": "zG-ndQTxeo-K"
      },
      "execution_count": 2,
      "outputs": []
    },
    {
      "cell_type": "code",
      "source": [
        "# Consistency Metric (e.g., valid email format)\n",
        "valid_email_pattern = df['Email'].str.contains(r'^[a-zA-Z0-9_.+-]+@[a-zA-Z0-9-]+\\.[a-zA-Z0-9-.]+$')\n",
        "consistency_score = valid_email_pattern.mean()\n",
        "\n",
        "# Average the scores (assuming equal weights)\n",
        "data_quality_score = (completeness_score + consistency_score) / 2\n",
        "\n",
        "# Convert to percentage\n",
        "data_quality_percentage = data_quality_score * 100"
      ],
      "metadata": {
        "id": "aPS95ZZmernJ"
      },
      "execution_count": 3,
      "outputs": []
    },
    {
      "cell_type": "code",
      "source": [
        "\n",
        "print(f\"Data Quality Score: {data_quality_percentage:.2f}%\")"
      ],
      "metadata": {
        "colab": {
          "base_uri": "https://localhost:8080/"
        },
        "id": "kiB8b37KetHk",
        "outputId": "b73b7339-3939-40db-fceb-d346e50cc736"
      },
      "execution_count": 4,
      "outputs": [
        {
          "output_type": "stream",
          "name": "stdout",
          "text": [
            "Data Quality Score: 79.17%\n"
          ]
        }
      ]
    },
    {
      "cell_type": "code",
      "source": [
        "df2 = df.dropna()"
      ],
      "metadata": {
        "id": "UwAdIKS4e8U-"
      },
      "execution_count": 8,
      "outputs": []
    },
    {
      "cell_type": "code",
      "source": [
        "# Completeness Metric\n",
        "completeness_score = df2.notna().sum().sum() / df2.size\n",
        "\n",
        "# Consistency Metric (e.g., valid email format)\n",
        "valid_email_pattern = df2['Email'].str.contains(r'^[a-zA-Z0-9_.+-]+@[a-zA-Z0-9-]+\\.[a-zA-Z0-9-.]+$')\n",
        "consistency_score = valid_email_pattern.mean()\n",
        "\n",
        "# Average the scores (assuming equal weights)\n",
        "data_quality_score = (completeness_score + consistency_score) / 2\n",
        "\n",
        "# Convert to percentage\n",
        "data_quality_percentage = data_quality_score * 100\n",
        "\n",
        "print(f\"Data Quality Score: {data_quality_percentage:.2f}%\")"
      ],
      "metadata": {
        "colab": {
          "base_uri": "https://localhost:8080/"
        },
        "id": "VYIFrWcJfByR",
        "outputId": "56fbd5bb-88f1-47d0-f747-db351e0bb71c"
      },
      "execution_count": 9,
      "outputs": [
        {
          "output_type": "stream",
          "name": "stdout",
          "text": [
            "Data Quality Score: 100.00%\n"
          ]
        }
      ]
    },
    {
      "cell_type": "code",
      "source": [
        "class DataQualityEvaluator:\n",
        "    def __init__(self, dataframe, weights=None):\n",
        "        self.df = dataframe\n",
        "        self.weights = weights or {col: 1 for col in dataframe.columns}\n",
        "\n",
        "    def completeness(self):\n",
        "        return self.df.notnull().sum().sum() / self.df.size\n",
        "\n",
        "    def weighted_completeness(self):\n",
        "        weighted_scores = list(map(lambda col: (self.df[col].notnull().sum() / len(self.df[col])) * self.weights[col], self.df.columns))\n",
        "        total_weight = sum(self.weights.values())\n",
        "        return sum(weighted_scores) / total_weight\n",
        "\n",
        "    def timeliness(self, column):\n",
        "        if self.df[column].dtype == 'datetime64[ns]':\n",
        "            now = datetime.now()\n",
        "            return self.df[column].apply(lambda x: (now - x).days).mean()\n",
        "        else:\n",
        "            return None\n",
        "\n",
        "    def uniqueness(self):\n",
        "        unique_scores = list(map(lambda col: self.df[col].nunique() / len(self.df[col]) if self.df[col].dtype in ['int64', 'float64', 'object', 'bool'] else 1, self.df.columns))\n",
        "        return sum(unique_scores) / len(unique_scores)\n",
        "\n",
        "    def range_validity(self, column, min_val, max_val):\n",
        "        if self.df[column].dtype in ['int64', 'float64']:\n",
        "            return self.df[column].apply(lambda x: min_val <= x <= max_val).mean()\n",
        "        else:\n",
        "            return None\n",
        "\n",
        "    def format_conformity(self, column, regex_pattern):\n",
        "        if self.df[column].dtype == 'object':\n",
        "            return self.df[column].str.match(regex_pattern).mean()\n",
        "        else:\n",
        "            return None\n",
        "\n",
        "    def calculate_overall_quality(self):\n",
        "        completeness_score = self.weighted_completeness()\n",
        "        timeliness_scores = list(filter(None, [self.timeliness(col) for col in self.df.columns if self.df[col].dtype == 'datetime64[ns]']))\n",
        "        uniqueness_score = self.uniqueness()\n",
        "        range_validity_scores = list(filter(None, [self.range_validity(col, 0, 100) for col in self.df.columns if self.df[col].dtype in ['int64', 'float64']]))\n",
        "        format_conformity_scores = list(filter(None, [self.format_conformity(col, r'^[A-Za-z]+$') for col in self.df.columns if self.df[col].dtype == 'object']))  # Example for string format\n",
        "\n",
        "        average_timeliness = sum(timeliness_scores) / len(timeliness_scores) if timeliness_scores else 1\n",
        "        average_range_validity = sum(range_validity_scores) / len(range_validity_scores) if range_validity_scores else 1\n",
        "        average_format_conformity = sum(format_conformity_scores) / len(format_conformity_scores) if format_conformity_scores else 1\n",
        "\n",
        "        overall_score = (completeness_score + average_timeliness + uniqueness_score + average_range_validity + average_format_conformity) / 5\n",
        "        return overall_score\n",
        "\n",
        "    def quality_color_indicator(self, quality_score):\n",
        "        if quality_score >= 0.7:\n",
        "            return \"Green\"\n",
        "        elif 0.5 <= quality_score < 0.7:\n",
        "            return \"Orange\"\n",
        "        else:\n",
        "            return \"Red\""
      ],
      "metadata": {
        "id": "LhV-9darjN0y"
      },
      "execution_count": 63,
      "outputs": []
    },
    {
      "cell_type": "code",
      "source": [
        "import pandas as pd\n",
        "\n",
        "df = pd.read_csv('animes.csv')\n",
        "df2=df.dropna()"
      ],
      "metadata": {
        "id": "HKLMOaYQjQFi"
      },
      "execution_count": 61,
      "outputs": []
    },
    {
      "cell_type": "code",
      "source": [
        "quality_evaluator = DataQualityEvaluator(df2)\n",
        "quality_score = quality_evaluator.calculate_overall_quality()\n",
        "color_indicator = quality_evaluator.quality_color_indicator(quality_score)\n",
        "quality_score = 100*quality_score\n",
        "\n",
        "print(f\"Overall Data Quality Score: {quality_score:.2f}%\")\n",
        "print(f\"Data Quality Color Indicator: {color_indicator}\")"
      ],
      "metadata": {
        "colab": {
          "base_uri": "https://localhost:8080/"
        },
        "id": "_y56U03njR9i",
        "outputId": "93628576-33f4-43f9-dd85-7b3cf4ea8d72"
      },
      "execution_count": 67,
      "outputs": [
        {
          "output_type": "stream",
          "name": "stdout",
          "text": [
            "Overall Data Quality Score: 61.17%\n",
            "Data Quality Color Indicator: Orange\n"
          ]
        }
      ]
    }
  ]
}