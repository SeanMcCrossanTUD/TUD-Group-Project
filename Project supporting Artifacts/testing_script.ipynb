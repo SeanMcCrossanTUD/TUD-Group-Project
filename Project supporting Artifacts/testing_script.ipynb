{
  "nbformat": 4,
  "nbformat_minor": 0,
  "metadata": {
    "colab": {
      "provenance": []
    },
    "kernelspec": {
      "name": "python3",
      "display_name": "Python 3"
    },
    "language_info": {
      "name": "python"
    }
  },
  "cells": [
    {
      "cell_type": "code",
      "execution_count": null,
      "metadata": {
        "id": "QP1r-tdbxfTe"
      },
      "outputs": [],
      "source": [
        "class DataQualityEvaluator:\n",
        "    def __init__(self, dataframe):\n",
        "        self.df = dataframe\n",
        "\n",
        "    def completeness(self):\n",
        "        missing_count = self.df.isnull().sum().sum()\n",
        "        total_count = self.df.size\n",
        "        completeness_score = (total_count - missing_count) / total_count\n",
        "        return completeness_score\n",
        "\n",
        "    def range_validity(self, column, min_val, max_val):\n",
        "        if self.df[column].dtype in ['int64', 'float64']:\n",
        "            valid_count = self.df[column].apply(lambda x: min_val <= x <= max_val).sum()\n",
        "            total_count = self.df[column].count()\n",
        "            return valid_count / total_count\n",
        "        else:\n",
        "            return None\n",
        "\n",
        "    def check_outliers(self, column):\n",
        "        if self.df[column].dtype in ['int64', 'float64']:\n",
        "            mean = self.df[column].mean()\n",
        "            std = self.df[column].std()\n",
        "            outliers_count = self.df[column].apply(lambda x: abs(x - mean) > 3 * std).sum()\n",
        "            total_count = self.df[column].count()\n",
        "            return (total_count - outliers_count) / total_count\n",
        "        else:\n",
        "            return None\n",
        "\n",
        "    def uniqueness(self):\n",
        "        unique_scores = [self.df[col].nunique() / len(self.df[col]) if self.df[col].dtype in ['int64', 'float64', 'object'] else 1 for col in self.df.columns]\n",
        "        return sum(unique_scores) / len(unique_scores)\n",
        "\n",
        "    def calculate_overall_quality(self):\n",
        "        completeness_score = self.completeness()\n",
        "        range_validity_scores = [self.range_validity(col, 0, 100) for col in self.df.columns if self.df[col].dtype in ['int64', 'float64']]\n",
        "        outlier_scores = [self.check_outliers(col) for col in self.df.columns if self.df[col].dtype in ['int64', 'float64']]\n",
        "        uniqueness_score = self.uniqueness()\n",
        "\n",
        "        range_validity_scores = [score for score in range_validity_scores if score is not None]\n",
        "        outlier_scores = [score for score in outlier_scores if score is not None]\n",
        "\n",
        "        range_validity_avg = sum(range_validity_scores) / len(range_validity_scores) if range_validity_scores else 1\n",
        "        outlier_avg = sum(outlier_scores) / len(outlier_scores) if outlier_scores else 1\n",
        "\n",
        "        overall_score = (completeness_score + range_validity_avg + outlier_avg + uniqueness_score) / 4\n",
        "        return overall_score\n",
        "\n",
        "    def quality_color_indicator(self):\n",
        "        quality_score = self.calculate_overall_quality() * 100\n",
        "        color = \"Red\"\n",
        "        if quality_score >= 70:\n",
        "            color = \"Green\"\n",
        "        elif 50 <= quality_score < 70:\n",
        "            color = \"Orange\"\n",
        "\n",
        "        return f\"Your result is: {quality_score:.2f}% {color}\"\n"
      ]
    },
    {
      "cell_type": "code",
      "source": [
        "import pandas as pd\n",
        "\n",
        "df = pd.read_csv('animes.csv')\n",
        "df2=df.dropna()"
      ],
      "metadata": {
        "id": "_TvR-oMmxgtp"
      },
      "execution_count": null,
      "outputs": []
    },
    {
      "cell_type": "code",
      "source": [
        "evaluator = DataQualityEvaluator(df)\n",
        "\n",
        "print(evaluator.quality_color_indicator())"
      ],
      "metadata": {
        "id": "9nCps01qxlDS"
      },
      "execution_count": null,
      "outputs": []
    }
  ]
}